{
 "cells": [
  {
   "cell_type": "code",
   "execution_count": 1,
   "id": "382dd9b7-6c4f-44e2-9bce-8548385a0ac5",
   "metadata": {},
   "outputs": [
    {
     "name": "stdout",
     "output_type": "stream",
     "text": [
      "\u001b[33m  WARNING: The script humanfriendly is installed in '/usr/local/python/3.12.1/bin' which is not on PATH.\n",
      "  Consider adding this directory to PATH or, if you prefer to suppress this warning, use --no-warn-script-location.\u001b[0m\u001b[33m\n",
      "\u001b[0m\u001b[33m  WARNING: The scripts huggingface-cli and tiny-agents are installed in '/usr/local/python/3.12.1/bin' which is not on PATH.\n",
      "  Consider adding this directory to PATH or, if you prefer to suppress this warning, use --no-warn-script-location.\u001b[0m\u001b[33m\n",
      "\u001b[0m\u001b[33m  WARNING: The script coloredlogs is installed in '/usr/local/python/3.12.1/bin' which is not on PATH.\n",
      "  Consider adding this directory to PATH or, if you prefer to suppress this warning, use --no-warn-script-location.\u001b[0m\u001b[33m\n",
      "\u001b[0m\u001b[33m  WARNING: The script onnxruntime_test is installed in '/usr/local/python/3.12.1/bin' which is not on PATH.\n",
      "  Consider adding this directory to PATH or, if you prefer to suppress this warning, use --no-warn-script-location.\u001b[0m\u001b[33m\n",
      "\u001b[0m"
     ]
    }
   ],
   "source": [
    "!python -m pip install -q \"qdrant-client[fastembed]>=1.14.2\""
   ]
  },
  {
   "cell_type": "code",
   "execution_count": 2,
   "id": "13bf346f-7557-4bb3-a93a-ac045ab9b42f",
   "metadata": {},
   "outputs": [
    {
     "name": "stdout",
     "output_type": "stream",
     "text": [
      "Requirement already satisfied: fastembed in /usr/local/python/3.12.1/lib/python3.12/site-packages (0.7.1)\n",
      "Requirement already satisfied: huggingface-hub<1.0,>=0.20 in /usr/local/python/3.12.1/lib/python3.12/site-packages (from fastembed) (0.33.0)\n",
      "Requirement already satisfied: loguru<0.8.0,>=0.7.2 in /usr/local/python/3.12.1/lib/python3.12/site-packages (from fastembed) (0.7.3)\n",
      "Requirement already satisfied: mmh3<6.0.0,>=4.1.0 in /usr/local/python/3.12.1/lib/python3.12/site-packages (from fastembed) (5.1.0)\n",
      "Requirement already satisfied: numpy>=1.26 in /home/codespace/.local/lib/python3.12/site-packages (from fastembed) (2.2.6)\n",
      "Requirement already satisfied: onnxruntime!=1.20.0,>=1.17.0 in /usr/local/python/3.12.1/lib/python3.12/site-packages (from fastembed) (1.22.0)\n",
      "Requirement already satisfied: pillow<12.0.0,>=10.3.0 in /home/codespace/.local/lib/python3.12/site-packages (from fastembed) (11.2.1)\n",
      "Requirement already satisfied: py-rust-stemmers<0.2.0,>=0.1.0 in /usr/local/python/3.12.1/lib/python3.12/site-packages (from fastembed) (0.1.5)\n",
      "Requirement already satisfied: requests<3.0,>=2.31 in /home/codespace/.local/lib/python3.12/site-packages (from fastembed) (2.32.3)\n",
      "Requirement already satisfied: tokenizers<1.0,>=0.15 in /usr/local/python/3.12.1/lib/python3.12/site-packages (from fastembed) (0.21.1)\n",
      "Requirement already satisfied: tqdm<5.0,>=4.66 in /usr/local/python/3.12.1/lib/python3.12/site-packages (from fastembed) (4.67.1)\n",
      "Requirement already satisfied: filelock in /home/codespace/.local/lib/python3.12/site-packages (from huggingface-hub<1.0,>=0.20->fastembed) (3.13.1)\n",
      "Requirement already satisfied: fsspec>=2023.5.0 in /home/codespace/.local/lib/python3.12/site-packages (from huggingface-hub<1.0,>=0.20->fastembed) (2024.6.1)\n",
      "Requirement already satisfied: packaging>=20.9 in /home/codespace/.local/lib/python3.12/site-packages (from huggingface-hub<1.0,>=0.20->fastembed) (25.0)\n",
      "Requirement already satisfied: pyyaml>=5.1 in /home/codespace/.local/lib/python3.12/site-packages (from huggingface-hub<1.0,>=0.20->fastembed) (6.0.2)\n",
      "Requirement already satisfied: typing-extensions>=3.7.4.3 in /home/codespace/.local/lib/python3.12/site-packages (from huggingface-hub<1.0,>=0.20->fastembed) (4.13.2)\n",
      "Requirement already satisfied: hf-xet<2.0.0,>=1.1.2 in /usr/local/python/3.12.1/lib/python3.12/site-packages (from huggingface-hub<1.0,>=0.20->fastembed) (1.1.5)\n",
      "Requirement already satisfied: charset-normalizer<4,>=2 in /home/codespace/.local/lib/python3.12/site-packages (from requests<3.0,>=2.31->fastembed) (3.4.2)\n",
      "Requirement already satisfied: idna<4,>=2.5 in /home/codespace/.local/lib/python3.12/site-packages (from requests<3.0,>=2.31->fastembed) (3.10)\n",
      "Requirement already satisfied: urllib3<3,>=1.21.1 in /home/codespace/.local/lib/python3.12/site-packages (from requests<3.0,>=2.31->fastembed) (2.4.0)\n",
      "Requirement already satisfied: certifi>=2017.4.17 in /home/codespace/.local/lib/python3.12/site-packages (from requests<3.0,>=2.31->fastembed) (2025.4.26)\n",
      "Requirement already satisfied: coloredlogs in /usr/local/python/3.12.1/lib/python3.12/site-packages (from onnxruntime!=1.20.0,>=1.17.0->fastembed) (15.0.1)\n",
      "Requirement already satisfied: flatbuffers in /usr/local/python/3.12.1/lib/python3.12/site-packages (from onnxruntime!=1.20.0,>=1.17.0->fastembed) (25.2.10)\n",
      "Requirement already satisfied: protobuf in /usr/local/python/3.12.1/lib/python3.12/site-packages (from onnxruntime!=1.20.0,>=1.17.0->fastembed) (6.31.1)\n",
      "Requirement already satisfied: sympy in /home/codespace/.local/lib/python3.12/site-packages (from onnxruntime!=1.20.0,>=1.17.0->fastembed) (1.13.3)\n",
      "Requirement already satisfied: humanfriendly>=9.1 in /usr/local/python/3.12.1/lib/python3.12/site-packages (from coloredlogs->onnxruntime!=1.20.0,>=1.17.0->fastembed) (10.0)\n",
      "Requirement already satisfied: mpmath<1.4,>=1.1.0 in /home/codespace/.local/lib/python3.12/site-packages (from sympy->onnxruntime!=1.20.0,>=1.17.0->fastembed) (1.3.0)\n",
      "Note: you may need to restart the kernel to use updated packages.\n"
     ]
    }
   ],
   "source": [
    "pip install fastembed"
   ]
  },
  {
   "cell_type": "code",
   "execution_count": 25,
   "id": "1ba9f0e6-0f27-438a-a1ab-433846918b14",
   "metadata": {},
   "outputs": [],
   "source": [
    "from fastembed import TextEmbedding\n",
    "\n",
    "model_handle = \"jinaai/jina-embeddings-v2-small-en\"\n",
    "embedding_model = TextEmbedding(model_handle)"
   ]
  },
  {
   "cell_type": "code",
   "execution_count": 26,
   "id": "10adb3b0-b919-481d-9ad1-094343894b1c",
   "metadata": {},
   "outputs": [
    {
     "name": "stdout",
     "output_type": "stream",
     "text": [
      "Embeded vector shape: (512,)\n",
      "Minimal value in embeded vector: -0.11726373885183883\n"
     ]
    }
   ],
   "source": [
    "#Q1:\n",
    "\n",
    "# Your query to embed\n",
    "q1 = [\"I just discovered the course. Can I join now?\"]\n",
    "\n",
    "# Generate embeddings (returns a generator)\n",
    "embeddings_generator_q1 = embedding_model.embed(q1)\n",
    "\n",
    "# Convert generator to list (each element is a numpy array)\n",
    "embeded_query_q1 = list(embeddings_generator_q1)[0]\n",
    "\n",
    "# embeddings_list[0] is the numpy array embedding for the query\n",
    "print(\"Embeded vector shape:\", embeded_query_q1.shape)\n",
    "\n",
    "# Minimal value in the embedding vector\n",
    "print(\"Minimal value in embeded vector:\", embeded_query_q1.min())"
   ]
  },
  {
   "cell_type": "code",
   "execution_count": 11,
   "id": "e19301d5-4fd0-42f2-ad23-0d55f355a844",
   "metadata": {},
   "outputs": [
    {
     "data": {
      "text/plain": [
       "np.float64(0.9008528895674548)"
      ]
     },
     "execution_count": 11,
     "metadata": {},
     "output_type": "execute_result"
    }
   ],
   "source": [
    "#Q2\n",
    "doc = ['Can I still join the course after the start date?']\n",
    "embeddings_generator_q2 = embedding_model.embed(doc)\n",
    "embeded_query_q2 = list(embeddings_generator_q2)[0]\n",
    "\n",
    "embeded_query_q2.dot(embeded_query_q1)\n",
    "#embeded_query_q1.dot(embeded_query_q2)"
   ]
  },
  {
   "cell_type": "code",
   "execution_count": 15,
   "id": "af7a1ed5-218d-451c-85b6-614ecc5fb0e1",
   "metadata": {},
   "outputs": [],
   "source": [
    "from qdrant_client import QdrantClient, models"
   ]
  },
  {
   "cell_type": "code",
   "execution_count": 16,
   "id": "9fd9f673-5e54-4e22-bb14-f0346adf79b2",
   "metadata": {},
   "outputs": [],
   "source": [
    "qd_client = QdrantClient(\"http://localhost:6333\")"
   ]
  },
  {
   "cell_type": "code",
   "execution_count": 33,
   "id": "76769826-c263-4927-a086-61f1e787aa40",
   "metadata": {},
   "outputs": [],
   "source": [
    "#Q3 Begin\n",
    "documents = [{'text': \"Yes, even if you don't register, you're still eligible to submit the homeworks.\\nBe aware, however, that there will be deadlines for turning in the final projects. So don't leave everything for the last minute.\",\n",
    "  'section': 'General course-related questions',\n",
    "  'question': 'Course - Can I still join the course after the start date?',\n",
    "  'course': 'data-engineering-zoomcamp'},\n",
    " {'text': 'Yes, we will keep all the materials after the course finishes, so you can follow the course at your own pace after it finishes.\\nYou can also continue looking at the homeworks and continue preparing for the next cohort. I guess you can also start working on your final capstone project.',\n",
    "  'section': 'General course-related questions',\n",
    "  'question': 'Course - Can I follow the course after it finishes?',\n",
    "  'course': 'data-engineering-zoomcamp'},\n",
    " {'text': \"The purpose of this document is to capture frequently asked technical questions\\nThe exact day and hour of the course will be 15th Jan 2024 at 17h00. The course will start with the first  “Office Hours'' live.1\\nSubscribe to course public Google Calendar (it works from Desktop only).\\nRegister before the course starts using this link.\\nJoin the course Telegram channel with announcements.\\nDon’t forget to register in DataTalks.Club's Slack and join the channel.\",\n",
    "  'section': 'General course-related questions',\n",
    "  'question': 'Course - When will the course start?',\n",
    "  'course': 'data-engineering-zoomcamp'},\n",
    " {'text': 'You can start by installing and setting up all the dependencies and requirements:\\nGoogle cloud account\\nGoogle Cloud SDK\\nPython 3 (installed with Anaconda)\\nTerraform\\nGit\\nLook over the prerequisites and syllabus to see if you are comfortable with these subjects.',\n",
    "  'section': 'General course-related questions',\n",
    "  'question': 'Course - What can I do before the course starts?',\n",
    "  'course': 'data-engineering-zoomcamp'},\n",
    " {'text': 'Star the repo! Share it with friends if you find it useful ❣️\\nCreate a PR if you see you can improve the text or the structure of the repository.',\n",
    "  'section': 'General course-related questions',\n",
    "  'question': 'How can we contribute to the course?',\n",
    "  'course': 'data-engineering-zoomcamp'}]"
   ]
  },
  {
   "cell_type": "code",
   "execution_count": 14,
   "id": "b61be3a4-99eb-44d4-8668-23b7f96e26ba",
   "metadata": {},
   "outputs": [
    {
     "data": {
      "text/plain": [
       "{'text': \"The purpose of this document is to capture frequently asked technical questions\\nThe exact day and hour of the course will be 15th Jan 2024 at 17h00. The course will start with the first  “Office Hours'' live.1\\nSubscribe to course public Google Calendar (it works from Desktop only).\\nRegister before the course starts using this link.\\nJoin the course Telegram channel with announcements.\\nDon’t forget to register in DataTalks.Club's Slack and join the channel.\",\n",
       " 'section': 'General course-related questions',\n",
       " 'question': 'Course - When will the course start?',\n",
       " 'course': 'data-engineering-zoomcamp'}"
      ]
     },
     "execution_count": 14,
     "metadata": {},
     "output_type": "execute_result"
    }
   ],
   "source": [
    "documents[2]"
   ]
  },
  {
   "cell_type": "code",
   "execution_count": 70,
   "id": "3c4e8243-5b25-43fa-b746-5f50b583937c",
   "metadata": {},
   "outputs": [
    {
     "data": {
      "text/plain": [
       "True"
      ]
     },
     "execution_count": 70,
     "metadata": {},
     "output_type": "execute_result"
    }
   ],
   "source": [
    "collection_name = \"homework-02-Q3\"\n",
    "\n",
    "qd_client.delete_collection(collection_name=collection_name)\n",
    "\n",
    "qd_client.create_collection(\n",
    "    collection_name=collection_name,\n",
    "    vectors_config=models.VectorParams(\n",
    "        size=EMBEDDING_DIMENSIONALITY,\n",
    "        distance=models.Distance.COSINE\n",
    "    )\n",
    ")"
   ]
  },
  {
   "cell_type": "code",
   "execution_count": 30,
   "id": "e7f62d46-e80a-4777-9441-43f2b15cb44a",
   "metadata": {},
   "outputs": [],
   "source": [
    "points = []\n",
    "\n",
    "for i, doc in enumerate(documents):\n",
    "    point = models.PointStruct(\n",
    "        id=i,\n",
    "        vector=models.Document(text=doc['text'], model=model_handle), #embed text locally with \"jinaai/jina-embeddings-v2-small-en\" from FastEmbed\n",
    "        payload=doc\n",
    "    )\n",
    "    points.append(point)\n"
   ]
  },
  {
   "cell_type": "code",
   "execution_count": 32,
   "id": "a5fe5351-da07-495f-837b-8d99c4bc0fab",
   "metadata": {},
   "outputs": [
    {
     "data": {
      "text/plain": [
       "UpdateResult(operation_id=0, status=<UpdateStatus.COMPLETED: 'completed'>)"
      ]
     },
     "execution_count": 32,
     "metadata": {},
     "output_type": "execute_result"
    }
   ],
   "source": [
    "qd_client.upsert(\n",
    "    collection_name=collection_name,\n",
    "    points=points\n",
    ")"
   ]
  },
  {
   "cell_type": "code",
   "execution_count": 56,
   "id": "be0b15bc-3646-4f25-9ef8-101722898d8d",
   "metadata": {},
   "outputs": [],
   "source": [
    "def search(query, limit=5):\n",
    "\n",
    "    query_points  = qd_client.query_points(\n",
    "        collection_name=collection_name,\n",
    "        query=models.Document(text=query, model=model_handle),\n",
    "        limit=limit,\n",
    "        with_payload=True #to get metadata in the results\n",
    "    )\n",
    "\n",
    "    return query_points"
   ]
  },
  {
   "cell_type": "code",
   "execution_count": 57,
   "id": "9e434e43-b8f7-4748-be92-530f61566970",
   "metadata": {},
   "outputs": [],
   "source": [
    "query_points = search(\"I just discovered the course. Can I join now?\")"
   ]
  },
  {
   "cell_type": "code",
   "execution_count": 66,
   "id": "fb22a059-f457-4102-9518-0affbf484580",
   "metadata": {},
   "outputs": [
    {
     "name": "stdout",
     "output_type": "stream",
     "text": [
      "1 0.8182378\n",
      "2 0.80853975\n",
      "0 0.7629685\n",
      "4 0.7304499\n",
      "3 0.71330786\n"
     ]
    }
   ],
   "source": [
    "#Q3 End\n",
    "for point in query_points.points:\n",
    "    print(point.id, point.score)\n"
   ]
  },
  {
   "cell_type": "code",
   "execution_count": 68,
   "id": "0e02852a-f658-4d8d-9d1f-2b1bcf7a1272",
   "metadata": {},
   "outputs": [],
   "source": [
    "#Q4 Begin\n",
    "points = []\n",
    "\n",
    "for i, doc in enumerate(documents):\n",
    "    text = doc['question'] + ' ' + doc['text']\n",
    "    point = models.PointStruct(\n",
    "        id=i,\n",
    "        vector=models.Document(text=text, model=model_handle),\n",
    "        payload=doc\n",
    "    )\n",
    "    points.append(point)"
   ]
  },
  {
   "cell_type": "code",
   "execution_count": 71,
   "id": "78972129-2a25-4040-83f7-32732183e918",
   "metadata": {},
   "outputs": [
    {
     "data": {
      "text/plain": [
       "True"
      ]
     },
     "execution_count": 71,
     "metadata": {},
     "output_type": "execute_result"
    }
   ],
   "source": [
    "collection_name = \"homework-02-Q4\"\n",
    "\n",
    "qd_client.delete_collection(collection_name=collection_name)\n",
    "\n",
    "qd_client.create_collection(\n",
    "    collection_name=collection_name,\n",
    "    vectors_config=models.VectorParams(\n",
    "        size=EMBEDDING_DIMENSIONALITY,\n",
    "        distance=models.Distance.COSINE\n",
    "    )\n",
    ")"
   ]
  },
  {
   "cell_type": "code",
   "execution_count": 72,
   "id": "bd45e8cc-6496-4fd5-a06a-c82f918393dd",
   "metadata": {},
   "outputs": [
    {
     "data": {
      "text/plain": [
       "UpdateResult(operation_id=0, status=<UpdateStatus.COMPLETED: 'completed'>)"
      ]
     },
     "execution_count": 72,
     "metadata": {},
     "output_type": "execute_result"
    }
   ],
   "source": [
    "qd_client.upsert(\n",
    "    collection_name=collection_name,\n",
    "    points=points\n",
    ")"
   ]
  },
  {
   "cell_type": "code",
   "execution_count": 73,
   "id": "d34b3ccf-c15d-43bb-ac02-4bb9e7fa96dc",
   "metadata": {},
   "outputs": [],
   "source": [
    "def search(query, limit=5):\n",
    "\n",
    "    query_points  = qd_client.query_points(\n",
    "        collection_name=collection_name,\n",
    "        query=models.Document(text=query, model=model_handle),\n",
    "        limit=limit,\n",
    "        with_payload=True #to get metadata in the results\n",
    "    )\n",
    "\n",
    "    return query_points"
   ]
  },
  {
   "cell_type": "code",
   "execution_count": 74,
   "id": "38192709-1f7c-43af-aa82-8bdb24e21172",
   "metadata": {},
   "outputs": [],
   "source": [
    "query_points = search(\"I just discovered the course. Can I join now?\")"
   ]
  },
  {
   "cell_type": "code",
   "execution_count": 76,
   "id": "1587b591-116f-45db-9653-22a3b6f203df",
   "metadata": {},
   "outputs": [
    {
     "name": "stdout",
     "output_type": "stream",
     "text": [
      "0 0.8514543\n",
      "1 0.8436594\n",
      "2 0.84082866\n",
      "4 0.8086008\n",
      "3 0.7755158\n"
     ]
    }
   ],
   "source": [
    "#Q4 End\n",
    "for point in query_points.points:\n",
    "    print(point.id, point.score)"
   ]
  },
  {
   "cell_type": "code",
   "execution_count": 82,
   "id": "2d511904-8d7f-4d8f-94a6-3675b52c52c3",
   "metadata": {},
   "outputs": [
    {
     "name": "stdout",
     "output_type": "stream",
     "text": [
      "Model with smallest dimension: BAAI/bge-small-en (384 dimensions)\n"
     ]
    }
   ],
   "source": [
    "#Q5\n",
    "# Initialize variables to track the model with smallest dimension\n",
    "min_dim = 512\n",
    "min_dim_model = ''\n",
    "\n",
    "# Iterate through all supported models\n",
    "for model in TextEmbedding.list_supported_models():\n",
    "   \n",
    "    # Check if current model has smaller dimension\n",
    "    if model[\"dim\"] < min_dim:\n",
    "        min_dim = model[\"dim\"]\n",
    "        min_dim_model = model[\"model\"]\n",
    "\n",
    "\n",
    "print(f\"Model with smallest dimension: {min_dim_model} ({min_dim} dimensions)\")"
   ]
  },
  {
   "cell_type": "code",
   "execution_count": 83,
   "id": "065a2d29-7bbb-424e-be0e-25cbd05f8b8b",
   "metadata": {},
   "outputs": [],
   "source": [
    "#Q6 Begin\n",
    "import requests \n",
    "\n",
    "docs_url = 'https://github.com/alexeygrigorev/llm-rag-workshop/raw/main/notebooks/documents.json'\n",
    "docs_response = requests.get(docs_url)\n",
    "documents_raw = docs_response.json()\n",
    "\n",
    "\n",
    "documents = []\n",
    "\n",
    "for course in documents_raw:\n",
    "    course_name = course['course']\n",
    "    if course_name != 'machine-learning-zoomcamp':\n",
    "        continue\n",
    "\n",
    "    for doc in course['documents']:\n",
    "        doc['course'] = course_name\n",
    "        documents.append(doc)"
   ]
  },
  {
   "cell_type": "code",
   "execution_count": 89,
   "id": "96af01ab-3b0a-44d8-be51-6bfbb9ee7846",
   "metadata": {},
   "outputs": [],
   "source": [
    "model_handle = \"BAAI/bge-small-en\""
   ]
  },
  {
   "cell_type": "code",
   "execution_count": 84,
   "id": "1dc86254-ab90-4e8b-b110-0e283f323d55",
   "metadata": {},
   "outputs": [],
   "source": [
    "points = []\n",
    "\n",
    "for i, doc in enumerate(documents):\n",
    "    text = doc['question'] + ' ' + doc['text']\n",
    "    point = models.PointStruct(\n",
    "        id=i,\n",
    "        vector=models.Document(text=text, model=model_handle),\n",
    "        payload=doc\n",
    "    )\n",
    "    points.append(point)"
   ]
  },
  {
   "cell_type": "code",
   "execution_count": 87,
   "id": "6cc171f4-d993-47f6-840f-df75c97d8ebf",
   "metadata": {},
   "outputs": [
    {
     "data": {
      "text/plain": [
       "True"
      ]
     },
     "execution_count": 87,
     "metadata": {},
     "output_type": "execute_result"
    }
   ],
   "source": [
    "collection_name = \"homework-02-Q6\"\n",
    "\n",
    "EMBEDDING_DIMENSIONALITY = 384\n",
    "\n",
    "qd_client.delete_collection(collection_name=collection_name)\n",
    "\n",
    "qd_client.create_collection(\n",
    "    collection_name=collection_name,\n",
    "    vectors_config=models.VectorParams(\n",
    "        size=EMBEDDING_DIMENSIONALITY,\n",
    "        distance=models.Distance.COSINE\n",
    "    )\n",
    ")"
   ]
  },
  {
   "cell_type": "code",
   "execution_count": 88,
   "id": "d06150d2-11cd-4316-9c10-d6c6b428eadc",
   "metadata": {},
   "outputs": [
    {
     "name": "stderr",
     "output_type": "stream",
     "text": [
      "Fetching 5 files: 100%|████████████████████████████████████████████████████████████████████████████████████████████████████████████████████████████████████████████| 5/5 [00:00<00:00,  8.03it/s]\n"
     ]
    },
    {
     "data": {
      "text/plain": [
       "UpdateResult(operation_id=0, status=<UpdateStatus.COMPLETED: 'completed'>)"
      ]
     },
     "execution_count": 88,
     "metadata": {},
     "output_type": "execute_result"
    }
   ],
   "source": [
    "qd_client.upsert(\n",
    "    collection_name=collection_name,\n",
    "    points=points\n",
    ")"
   ]
  },
  {
   "cell_type": "code",
   "execution_count": 90,
   "id": "752aa5f9-28ed-4779-897c-f4098d11a8a4",
   "metadata": {},
   "outputs": [],
   "source": [
    "def search(query, limit=1):\n",
    "\n",
    "    query_points  = qd_client.query_points(\n",
    "        collection_name=collection_name,\n",
    "        query=models.Document(text=query, model=model_handle),\n",
    "        limit=limit,\n",
    "        with_payload=True #to get metadata in the results\n",
    "    )\n",
    "\n",
    "    return query_points"
   ]
  },
  {
   "cell_type": "code",
   "execution_count": 91,
   "id": "f9baea8f-0889-4be0-92d5-aad00a9035f4",
   "metadata": {},
   "outputs": [],
   "source": [
    "query_points = search(\"I just discovered the course. Can I join now?\")"
   ]
  },
  {
   "cell_type": "code",
   "execution_count": 93,
   "id": "650aa5c7-3665-4943-b97e-94080123b1dc",
   "metadata": {},
   "outputs": [
    {
     "data": {
      "text/plain": [
       "QueryResponse(points=[ScoredPoint(id=14, version=0, score=0.87031734, payload={'text': 'Yes, you can. You won’t be able to submit some of the homeworks, but you can still take part in the course.\\nIn order to get a certificate, you need to submit 2 out of 3 course projects and review 3 peers’ Projects by the deadline. It means that if you join the course at the end of November and manage to work on two projects, you will still be eligible for a certificate.', 'section': 'General course-related questions', 'question': 'The course has already started. Can I still join it?', 'course': 'machine-learning-zoomcamp'}, vector=None, shard_key=None, order_value=None)])"
      ]
     },
     "execution_count": 93,
     "metadata": {},
     "output_type": "execute_result"
    }
   ],
   "source": [
    "#Q6 End\n",
    "query_points"
   ]
  }
 ],
 "metadata": {
  "kernelspec": {
   "display_name": "Python 3 (ipykernel)",
   "language": "python",
   "name": "python3"
  },
  "language_info": {
   "codemirror_mode": {
    "name": "ipython",
    "version": 3
   },
   "file_extension": ".py",
   "mimetype": "text/x-python",
   "name": "python",
   "nbconvert_exporter": "python",
   "pygments_lexer": "ipython3",
   "version": "3.12.1"
  }
 },
 "nbformat": 4,
 "nbformat_minor": 5
}
